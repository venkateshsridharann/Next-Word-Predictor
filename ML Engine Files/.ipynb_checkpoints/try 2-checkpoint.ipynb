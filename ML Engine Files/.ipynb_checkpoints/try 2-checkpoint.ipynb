{
 "cells": [
  {
   "cell_type": "code",
   "execution_count": 2,
   "id": "49daf8cc",
   "metadata": {},
   "outputs": [],
   "source": [
    "import pandas as pd\n",
    "import os\n",
    "import numpy as np\n",
    "\n",
    "import tensorflow as tf\n",
    "from tensorflow.keras.preprocessing.sequence import pad_sequences\n",
    "from tensorflow.keras.layers import Embedding, LSTM, Dense, Bidirectional\n",
    "from tensorflow.keras.preprocessing.text import Tokenizer\n",
    "from tensorflow.keras.models import Sequential\n",
    "from tensorflow.keras.optimizers import Adam"
   ]
  },
  {
   "cell_type": "code",
   "execution_count": 3,
   "id": "66e2eede",
   "metadata": {},
   "outputs": [
    {
     "data": {
      "text/html": [
       "<div>\n",
       "<style scoped>\n",
       "    .dataframe tbody tr th:only-of-type {\n",
       "        vertical-align: middle;\n",
       "    }\n",
       "\n",
       "    .dataframe tbody tr th {\n",
       "        vertical-align: top;\n",
       "    }\n",
       "\n",
       "    .dataframe thead th {\n",
       "        text-align: right;\n",
       "    }\n",
       "</style>\n",
       "<table border=\"1\" class=\"dataframe\">\n",
       "  <thead>\n",
       "    <tr style=\"text-align: right;\">\n",
       "      <th></th>\n",
       "      <th>id</th>\n",
       "      <th>claps</th>\n",
       "      <th>reading_time</th>\n",
       "    </tr>\n",
       "  </thead>\n",
       "  <tbody>\n",
       "    <tr>\n",
       "      <th>count</th>\n",
       "      <td>6508.000000</td>\n",
       "      <td>6508.000000</td>\n",
       "      <td>6508.000000</td>\n",
       "    </tr>\n",
       "    <tr>\n",
       "      <th>mean</th>\n",
       "      <td>3254.500000</td>\n",
       "      <td>311.076060</td>\n",
       "      <td>6.134911</td>\n",
       "    </tr>\n",
       "    <tr>\n",
       "      <th>std</th>\n",
       "      <td>1878.842108</td>\n",
       "      <td>950.789896</td>\n",
       "      <td>3.231918</td>\n",
       "    </tr>\n",
       "    <tr>\n",
       "      <th>min</th>\n",
       "      <td>1.000000</td>\n",
       "      <td>0.000000</td>\n",
       "      <td>0.000000</td>\n",
       "    </tr>\n",
       "    <tr>\n",
       "      <th>25%</th>\n",
       "      <td>1627.750000</td>\n",
       "      <td>54.000000</td>\n",
       "      <td>4.000000</td>\n",
       "    </tr>\n",
       "    <tr>\n",
       "      <th>50%</th>\n",
       "      <td>3254.500000</td>\n",
       "      <td>115.000000</td>\n",
       "      <td>5.000000</td>\n",
       "    </tr>\n",
       "    <tr>\n",
       "      <th>75%</th>\n",
       "      <td>4881.250000</td>\n",
       "      <td>268.250000</td>\n",
       "      <td>7.000000</td>\n",
       "    </tr>\n",
       "    <tr>\n",
       "      <th>max</th>\n",
       "      <td>6508.000000</td>\n",
       "      <td>38000.000000</td>\n",
       "      <td>55.000000</td>\n",
       "    </tr>\n",
       "  </tbody>\n",
       "</table>\n",
       "</div>"
      ],
      "text/plain": [
       "                id         claps  reading_time\n",
       "count  6508.000000   6508.000000   6508.000000\n",
       "mean   3254.500000    311.076060      6.134911\n",
       "std    1878.842108    950.789896      3.231918\n",
       "min       1.000000      0.000000      0.000000\n",
       "25%    1627.750000     54.000000      4.000000\n",
       "50%    3254.500000    115.000000      5.000000\n",
       "75%    4881.250000    268.250000      7.000000\n",
       "max    6508.000000  38000.000000     55.000000"
      ]
     },
     "execution_count": 3,
     "metadata": {},
     "output_type": "execute_result"
    }
   ],
   "source": [
    "medium_data = pd.read_csv('medium_data.csv')\n",
    "medium_data.describe()"
   ]
  },
  {
   "cell_type": "code",
   "execution_count": 4,
   "id": "09b1ead5",
   "metadata": {},
   "outputs": [
    {
     "name": "stdout",
     "output_type": "stream",
     "text": [
      "Number of records:  6508\n",
      "Number of fields:  10\n"
     ]
    }
   ],
   "source": [
    "print(\"Number of records: \", medium_data.shape[0])\n",
    "print(\"Number of fields: \", medium_data.shape[1])"
   ]
  },
  {
   "cell_type": "code",
   "execution_count": 5,
   "id": "2c159cfe",
   "metadata": {},
   "outputs": [
    {
     "data": {
      "text/plain": [
       "0       A Beginner’s Guide to Word Embedding with Gens...\n",
       "1       Hands-on Graph Neural Networks with PyTorch & ...\n",
       "2                            How to Use ggplot2 in Python\n",
       "3       Databricks: How to Save Files in CSV on Your L...\n",
       "4       A Step-by-Step Implementation of Gradient Desc...\n",
       "                              ...                        \n",
       "6503    “We” vs “I” — How Should You Talk About Yourse...\n",
       "6504                     How Donald Trump Markets Himself\n",
       "6505        Content and Marketing Beyond Mass Consumption\n",
       "6506    5 Questions All Copywriters Should Ask Clients...\n",
       "6507               How To Write a Good Business Blog Post\n",
       "Name: title, Length: 6508, dtype: object"
      ]
     },
     "execution_count": 5,
     "metadata": {},
     "output_type": "execute_result"
    }
   ],
   "source": [
    "medium_data['title']"
   ]
  },
  {
   "cell_type": "code",
   "execution_count": 6,
   "id": "41da656f",
   "metadata": {},
   "outputs": [],
   "source": [
    "medium_data['title'] = medium_data['title'].apply(lambda x: x.replace(u'\\xa0',u' '))\n",
    "medium_data['title'] = medium_data['title'].apply(lambda x: x.replace('\\u200a',' '))"
   ]
  },
  {
   "cell_type": "code",
   "execution_count": 7,
   "id": "5ff2bd51",
   "metadata": {},
   "outputs": [
    {
     "name": "stdout",
     "output_type": "stream",
     "text": [
      "Total number of words:  8238\n",
      "Word: ID\n",
      "------------\n",
      "<oov>:  1\n",
      "Strong:  4\n",
      "And:  8\n",
      "Consumption:  8237\n"
     ]
    }
   ],
   "source": [
    "\n",
    "tokenizer = Tokenizer(oov_token='<oov>') # For those words which are not found in word_index\n",
    "tokenizer.fit_on_texts(medium_data['title'])\n",
    "total_words = len(tokenizer.word_index) + 1\n",
    "\n",
    "print(\"Total number of words: \", total_words)\n",
    "print(\"Word: ID\")\n",
    "print(\"------------\")\n",
    "print(\"<oov>: \", tokenizer.word_index['<oov>'])\n",
    "print(\"Strong: \", tokenizer.word_index['strong'])\n",
    "print(\"And: \", tokenizer.word_index['and'])\n",
    "print(\"Consumption: \", tokenizer.word_index['consumption'])"
   ]
  },
  {
   "cell_type": "code",
   "execution_count": 8,
   "id": "d9994f3b",
   "metadata": {},
   "outputs": [
    {
     "name": "stdout",
     "output_type": "stream",
     "text": [
      "Total input sequences:  48461\n"
     ]
    }
   ],
   "source": [
    "input_sequences = []\n",
    "for line in medium_data['title']:\n",
    "    token_list = tokenizer.texts_to_sequences([line])[0]\n",
    "    #print(token_list)\n",
    "    \n",
    "    for i in range(1, len(token_list)):\n",
    "        n_gram_sequence = token_list[:i+1]\n",
    "        input_sequences.append(n_gram_sequence)\n",
    "\n",
    "# print(input_sequences)\n",
    "print(\"Total input sequences: \", len(input_sequences))"
   ]
  },
  {
   "cell_type": "code",
   "execution_count": 9,
   "id": "66ae0f0b",
   "metadata": {},
   "outputs": [
    {
     "data": {
      "text/plain": [
       "array([  0,   0,   0,   0,   0,   0,   0,   0,   0,   0,   0,   0,   0,\n",
       "         0,   0,   0,   0,   0,   0,   0,   0,   0,   0,   0,   0,   0,\n",
       "         0,   0,   0,   0,   0,   0,   0,   0,   0,   0,   0,   5, 676,\n",
       "        68])"
      ]
     },
     "execution_count": 9,
     "metadata": {},
     "output_type": "execute_result"
    }
   ],
   "source": [
    "# pad sequences \n",
    "max_sequence_len = max([len(x) for x in input_sequences])\n",
    "input_sequences = np.array(pad_sequences(input_sequences, maxlen=max_sequence_len, padding='pre'))\n",
    "input_sequences[1]"
   ]
  },
  {
   "cell_type": "code",
   "execution_count": 10,
   "id": "c4a531d5",
   "metadata": {},
   "outputs": [],
   "source": [
    "# create features and label\n",
    "xs, labels = input_sequences[:,:-1],input_sequences[:,-1]\n",
    "ys = tf.keras.utils.to_categorical(labels, num_classes=total_words)"
   ]
  },
  {
   "cell_type": "code",
   "execution_count": 11,
   "id": "34e5922f",
   "metadata": {},
   "outputs": [
    {
     "name": "stdout",
     "output_type": "stream",
     "text": [
      "[   0    0    0    0    0    0    0    0    0    0    0    0    0    0\n",
      "    0    0    0    0    0    0    0    0    0    0    0    0    0    0\n",
      "    0    0    0    0    0    5  676   68    2  452 1518]\n",
      "14\n",
      "1.0\n"
     ]
    }
   ],
   "source": [
    "print(xs[5])\n",
    "print(labels[5])\n",
    "print(ys[5][14])"
   ]
  },
  {
   "cell_type": "code",
   "execution_count": 15,
   "id": "751e4174",
   "metadata": {},
   "outputs": [
    {
     "name": "stderr",
     "output_type": "stream",
     "text": [
      "WARNING:absl:`lr` is deprecated in Keras optimizer, please use `learning_rate` or use the legacy optimizer, e.g.,tf.keras.optimizers.legacy.Adam.\n"
     ]
    },
    {
     "name": "stdout",
     "output_type": "stream",
     "text": [
      "Epoch 1/50\n",
      "1515/1515 [==============================] - 192s 122ms/step - loss: 7.0004 - accuracy: 0.0854\n",
      "Epoch 2/50\n",
      "1515/1515 [==============================] - 193s 127ms/step - loss: 6.1963 - accuracy: 0.1368\n",
      "Epoch 3/50\n",
      "1515/1515 [==============================] - 191s 126ms/step - loss: 5.6810 - accuracy: 0.1651\n",
      "Epoch 4/50\n",
      "1515/1515 [==============================] - 182s 120ms/step - loss: 5.2238 - accuracy: 0.1898\n",
      "Epoch 5/50\n",
      "1515/1515 [==============================] - 180s 119ms/step - loss: 4.7844 - accuracy: 0.2136\n",
      "Epoch 6/50\n",
      "1515/1515 [==============================] - 180s 119ms/step - loss: 4.3642 - accuracy: 0.2423\n",
      "Epoch 7/50\n",
      "1515/1515 [==============================] - 181s 119ms/step - loss: 3.9674 - accuracy: 0.2802\n",
      "Epoch 8/50\n",
      "1515/1515 [==============================] - 143s 94ms/step - loss: 3.5897 - accuracy: 0.3293\n",
      "Epoch 9/50\n",
      "1515/1515 [==============================] - 152s 100ms/step - loss: 3.2365 - accuracy: 0.3843\n",
      "Epoch 10/50\n",
      "1515/1515 [==============================] - 162s 107ms/step - loss: 2.9139 - accuracy: 0.4385\n",
      "Epoch 11/50\n",
      "1515/1515 [==============================] - 274s 181ms/step - loss: 2.6283 - accuracy: 0.4850\n",
      "Epoch 12/50\n",
      "1515/1515 [==============================] - 160s 105ms/step - loss: 2.3727 - accuracy: 0.5330\n",
      "Epoch 13/50\n",
      "1515/1515 [==============================] - 155s 103ms/step - loss: 2.1456 - accuracy: 0.5764\n",
      "Epoch 14/50\n",
      "1515/1515 [==============================] - 163s 108ms/step - loss: 1.9443 - accuracy: 0.6151\n",
      "Epoch 15/50\n",
      "1515/1515 [==============================] - 176s 116ms/step - loss: 1.7683 - accuracy: 0.6477\n",
      "Epoch 16/50\n",
      "1515/1515 [==============================] - 174s 115ms/step - loss: 1.6126 - accuracy: 0.6784\n",
      "Epoch 17/50\n",
      "1515/1515 [==============================] - 175s 116ms/step - loss: 1.4735 - accuracy: 0.7053\n",
      "Epoch 18/50\n",
      "1515/1515 [==============================] - 171s 113ms/step - loss: 1.3528 - accuracy: 0.7285\n",
      "Epoch 19/50\n",
      "1515/1515 [==============================] - 176s 116ms/step - loss: 1.2470 - accuracy: 0.7502\n",
      "Epoch 20/50\n",
      "1515/1515 [==============================] - 176s 116ms/step - loss: 1.1532 - accuracy: 0.7676\n",
      "Epoch 21/50\n",
      "1515/1515 [==============================] - 173s 114ms/step - loss: 1.0738 - accuracy: 0.7834\n",
      "Epoch 22/50\n",
      "1515/1515 [==============================] - 154s 102ms/step - loss: 1.0037 - accuracy: 0.7969\n",
      "Epoch 23/50\n",
      "1515/1515 [==============================] - 132s 87ms/step - loss: 0.9413 - accuracy: 0.8080\n",
      "Epoch 24/50\n",
      "1515/1515 [==============================] - 144s 95ms/step - loss: 0.8882 - accuracy: 0.8173\n",
      "Epoch 25/50\n",
      "1515/1515 [==============================] - 140s 92ms/step - loss: 0.8449 - accuracy: 0.8240\n",
      "Epoch 26/50\n",
      "1515/1515 [==============================] - 163s 107ms/step - loss: 0.8066 - accuracy: 0.8306\n",
      "Epoch 27/50\n",
      "1515/1515 [==============================] - 181s 120ms/step - loss: 0.7727 - accuracy: 0.8356\n",
      "Epoch 28/50\n",
      "1515/1515 [==============================] - 184s 121ms/step - loss: 0.7429 - accuracy: 0.8399\n",
      "Epoch 29/50\n",
      "1515/1515 [==============================] - 181s 120ms/step - loss: 0.7199 - accuracy: 0.8430\n",
      "Epoch 30/50\n",
      "1515/1515 [==============================] - 182s 120ms/step - loss: 0.6977 - accuracy: 0.8472\n",
      "Epoch 31/50\n",
      "1515/1515 [==============================] - 178s 118ms/step - loss: 0.6798 - accuracy: 0.8482\n",
      "Epoch 32/50\n",
      "1515/1515 [==============================] - 176s 116ms/step - loss: 0.6662 - accuracy: 0.8494\n",
      "Epoch 33/50\n",
      "1515/1515 [==============================] - 179s 118ms/step - loss: 0.6518 - accuracy: 0.8507\n",
      "Epoch 34/50\n",
      "1515/1515 [==============================] - 170s 112ms/step - loss: 0.6414 - accuracy: 0.8511\n",
      "Epoch 35/50\n",
      "1515/1515 [==============================] - 173s 114ms/step - loss: 0.6313 - accuracy: 0.8523\n",
      "Epoch 36/50\n",
      "1515/1515 [==============================] - 176s 116ms/step - loss: 0.6228 - accuracy: 0.8528\n",
      "Epoch 37/50\n",
      "1515/1515 [==============================] - 175s 116ms/step - loss: 0.6168 - accuracy: 0.8532\n",
      "Epoch 38/50\n",
      "1515/1515 [==============================] - 173s 114ms/step - loss: 0.6062 - accuracy: 0.8550\n",
      "Epoch 39/50\n",
      "1515/1515 [==============================] - 176s 116ms/step - loss: 0.6037 - accuracy: 0.8551\n",
      "Epoch 40/50\n",
      "1515/1515 [==============================] - 183s 121ms/step - loss: 0.5978 - accuracy: 0.8554\n",
      "Epoch 41/50\n",
      "1515/1515 [==============================] - 175s 116ms/step - loss: 0.5928 - accuracy: 0.8553\n",
      "Epoch 42/50\n",
      "1515/1515 [==============================] - 177s 117ms/step - loss: 0.5906 - accuracy: 0.8551\n",
      "Epoch 43/50\n",
      "1515/1515 [==============================] - 177s 117ms/step - loss: 0.5874 - accuracy: 0.8551\n",
      "Epoch 44/50\n",
      "1515/1515 [==============================] - 185s 122ms/step - loss: 0.5823 - accuracy: 0.8561\n",
      "Epoch 45/50\n",
      "1515/1515 [==============================] - 193s 128ms/step - loss: 0.5795 - accuracy: 0.8561\n",
      "Epoch 46/50\n",
      "1515/1515 [==============================] - 188s 124ms/step - loss: 0.5763 - accuracy: 0.8560\n",
      "Epoch 47/50\n",
      "1515/1515 [==============================] - 185s 122ms/step - loss: 0.5753 - accuracy: 0.8556\n",
      "Epoch 48/50\n",
      "1515/1515 [==============================] - 186s 122ms/step - loss: 0.5718 - accuracy: 0.8559\n",
      "Epoch 49/50\n",
      "1515/1515 [==============================] - 182s 120ms/step - loss: 0.5699 - accuracy: 0.8550\n",
      "Epoch 50/50\n",
      "1515/1515 [==============================] - 182s 120ms/step - loss: 0.5691 - accuracy: 0.8548\n",
      "<keras.src.engine.sequential.Sequential object at 0x0000017712FDC210>\n"
     ]
    }
   ],
   "source": [
    "model = Sequential()\n",
    "model.add(Embedding(total_words, 100, input_length=max_sequence_len-1))\n",
    "model.add(Bidirectional(LSTM(150)))\n",
    "model.add(Dense(total_words, activation='softmax'))\n",
    "adam = Adam(lr=0.01)\n",
    "model.compile(loss='categorical_crossentropy', optimizer=adam, metrics=['accuracy'])\n",
    "history = model.fit(xs, ys, epochs=50, verbose=1)\n",
    "#print model.summary()\n",
    "print(model)"
   ]
  },
  {
   "cell_type": "code",
   "execution_count": 12,
   "id": "10a99154",
   "metadata": {},
   "outputs": [],
   "source": [
    "import matplotlib.pyplot as plt\n",
    "\n",
    "\n",
    "def plot_graphs(history, string):\n",
    "    plt.plot(history.history[string])\n",
    "    plt.xlabel(\"Epochs\")\n",
    "    plt.ylabel(string)\n",
    "    plt.show()"
   ]
  },
  {
   "cell_type": "code",
   "execution_count": 13,
   "id": "ea8485ef",
   "metadata": {},
   "outputs": [
    {
     "ename": "NameError",
     "evalue": "name 'history' is not defined",
     "output_type": "error",
     "traceback": [
      "\u001b[1;31m---------------------------------------------------------------------------\u001b[0m",
      "\u001b[1;31mNameError\u001b[0m                                 Traceback (most recent call last)",
      "Cell \u001b[1;32mIn[13], line 1\u001b[0m\n\u001b[1;32m----> 1\u001b[0m plot_graphs(\u001b[43mhistory\u001b[49m, \u001b[38;5;124m'\u001b[39m\u001b[38;5;124maccuracy\u001b[39m\u001b[38;5;124m'\u001b[39m)\n",
      "\u001b[1;31mNameError\u001b[0m: name 'history' is not defined"
     ]
    }
   ],
   "source": [
    "plot_graphs(history, 'accuracy')"
   ]
  },
  {
   "cell_type": "code",
   "execution_count": 14,
   "id": "39c45213",
   "metadata": {},
   "outputs": [
    {
     "ename": "NameError",
     "evalue": "name 'history' is not defined",
     "output_type": "error",
     "traceback": [
      "\u001b[1;31m---------------------------------------------------------------------------\u001b[0m",
      "\u001b[1;31mNameError\u001b[0m                                 Traceback (most recent call last)",
      "Cell \u001b[1;32mIn[14], line 1\u001b[0m\n\u001b[1;32m----> 1\u001b[0m plot_graphs(\u001b[43mhistory\u001b[49m, \u001b[38;5;124m'\u001b[39m\u001b[38;5;124mloss\u001b[39m\u001b[38;5;124m'\u001b[39m)\n",
      "\u001b[1;31mNameError\u001b[0m: name 'history' is not defined"
     ]
    }
   ],
   "source": [
    "plot_graphs(history, 'loss')"
   ]
  },
  {
   "cell_type": "code",
   "execution_count": 61,
   "id": "39f5ab15",
   "metadata": {},
   "outputs": [
    {
     "name": "stdout",
     "output_type": "stream",
     "text": [
      "let me ask you a better career —\n"
     ]
    }
   ],
   "source": [
    "seed_text = \"let me ask you a\"\n",
    "next_words = 3\n",
    "  \n",
    "for _ in range(next_words):\n",
    "    token_list = tokenizer.texts_to_sequences([seed_text])[0]\n",
    "    token_list = pad_sequences([token_list], maxlen=max_sequence_len-1, padding='pre')\n",
    "#     predicted = model.predict_classes(token_list, verbose=0)\n",
    "    predicted=model.predict(token_list,verbose=0) \n",
    "    predicted=np.argmax(predicted,axis=1)\n",
    "    output_word = \"\"\n",
    "    for word, index in tokenizer.word_index.items():\n",
    "        if index == predicted:\n",
    "            output_word = word\n",
    "            break\n",
    "    seed_text += \" \" + output_word\n",
    "print(seed_text)"
   ]
  },
  {
   "cell_type": "code",
   "execution_count": 20,
   "id": "956b4472",
   "metadata": {},
   "outputs": [],
   "source": [
    "model.save(\"next_word_try_2.keras\")"
   ]
  },
  {
   "cell_type": "code",
   "execution_count": 46,
   "id": "90661376",
   "metadata": {},
   "outputs": [],
   "source": [
    "# predict only next word\n",
    "def predict_next(seed_text):\n",
    "    token_list = tokenizer.texts_to_sequences([seed_text])[0]\n",
    "    token_list = pad_sequences([token_list], maxlen=max_sequence_len-1, padding='pre')\n",
    "#     predicted = model.predict_classes(token_list, verbose=0)\n",
    "    predicted=model.predict(token_list,verbose=0) \n",
    "    predicted=np.argmax(predicted,axis=1)\n",
    "    output_word = \"\"\n",
    "    for word, index in tokenizer.word_index.items():\n",
    "        if index == predicted:\n",
    "            output_word = word\n",
    "            break\n",
    "    seed_text += \" \" + output_word\n",
    "    return seed_text"
   ]
  },
  {
   "cell_type": "code",
   "execution_count": 1,
   "id": "4a7d13cd",
   "metadata": {},
   "outputs": [
    {
     "ename": "NameError",
     "evalue": "name 'predict_next' is not defined",
     "output_type": "error",
     "traceback": [
      "\u001b[1;31m---------------------------------------------------------------------------\u001b[0m",
      "\u001b[1;31mNameError\u001b[0m                                 Traceback (most recent call last)",
      "Cell \u001b[1;32mIn[1], line 5\u001b[0m\n\u001b[0;32m      2\u001b[0m list_out \u001b[38;5;241m=\u001b[39m []\n\u001b[0;32m      4\u001b[0m \u001b[38;5;28;01mfor\u001b[39;00m seed_text \u001b[38;5;129;01min\u001b[39;00m list_input:\n\u001b[1;32m----> 5\u001b[0m     list_out\u001b[38;5;241m.\u001b[39mappend(\u001b[43mpredict_next\u001b[49m(seed_text))\n\u001b[0;32m      7\u001b[0m \u001b[38;5;28mdict\u001b[39m \u001b[38;5;241m=\u001b[39m {\u001b[38;5;124m'\u001b[39m\u001b[38;5;124mInput\u001b[39m\u001b[38;5;124m'\u001b[39m:list_input,\n\u001b[0;32m      8\u001b[0m         \u001b[38;5;124m'\u001b[39m\u001b[38;5;124mOutput\u001b[39m\u001b[38;5;124m'\u001b[39m:list_out}\n\u001b[0;32m     10\u001b[0m df \u001b[38;5;241m=\u001b[39m pd\u001b[38;5;241m.\u001b[39mDataFrame(\u001b[38;5;28mdict\u001b[39m)\n",
      "\u001b[1;31mNameError\u001b[0m: name 'predict_next' is not defined"
     ]
    }
   ],
   "source": [
    "list_input = [\"will AI become\", \"why does it seem\", \"this is the right way to\",\"Recipe of\",\"I am going to\",\"will this\"]\n",
    "list_out = []\n",
    "\n",
    "for seed_text in list_input:\n",
    "    list_out.append(predict_next(seed_text))\n",
    "\n",
    "dict = {'Input':list_input,\n",
    "        'Output':list_out}\n",
    "\n",
    "df = pd.DataFrame(dict)\n",
    "df"
   ]
  },
  {
   "cell_type": "code",
   "execution_count": null,
   "id": "62800504",
   "metadata": {},
   "outputs": [],
   "source": [
    "model"
   ]
  },
  {
   "cell_type": "code",
   "execution_count": null,
   "id": "97c1ba50",
   "metadata": {},
   "outputs": [],
   "source": []
  }
 ],
 "metadata": {
  "kernelspec": {
   "display_name": "nwpredictor",
   "language": "python",
   "name": "nwpredictor"
  },
  "language_info": {
   "codemirror_mode": {
    "name": "ipython",
    "version": 3
   },
   "file_extension": ".py",
   "mimetype": "text/x-python",
   "name": "python",
   "nbconvert_exporter": "python",
   "pygments_lexer": "ipython3",
   "version": "3.11.5"
  }
 },
 "nbformat": 4,
 "nbformat_minor": 5
}
