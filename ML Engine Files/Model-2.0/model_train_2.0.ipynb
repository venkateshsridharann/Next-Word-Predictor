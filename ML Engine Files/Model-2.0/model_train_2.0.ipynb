{
  "cells": [
    {
      "cell_type": "code",
      "execution_count": 1,
      "metadata": {
        "colab": {
          "base_uri": "https://localhost:8080/",
          "height": 38
        },
        "id": "XVgBGNFEd1Ir",
        "outputId": "742004fd-6a96-4376-bfe6-7c5f0de69823"
      },
      "outputs": [
        {
          "ename": "ModuleNotFoundError",
          "evalue": "No module named 'spacy'",
          "output_type": "error",
          "traceback": [
            "\u001b[1;31m---------------------------------------------------------------------------\u001b[0m",
            "\u001b[1;31mModuleNotFoundError\u001b[0m                       Traceback (most recent call last)",
            "\u001b[1;32mc:\\Users\\harsk\\Documents\\Artificial Intelligence Analysis, Design and Implementation\\Fall 2023\\Capstone\\Next-Word-Predictor\\ML Engine Files\\Model-2.0\\model_train_2.0.ipynb Cell 1\u001b[0m line \u001b[0;36m3\n\u001b[0;32m      <a href='vscode-notebook-cell:/c%3A/Users/harsk/Documents/Artificial%20Intelligence%20Analysis%2C%20Design%20and%20Implementation/Fall%202023/Capstone/Next-Word-Predictor/ML%20Engine%20Files/Model-2.0/model_train_2.0.ipynb#W0sZmlsZQ%3D%3D?line=0'>1</a>\u001b[0m \u001b[39mimport\u001b[39;00m \u001b[39mnumpy\u001b[39;00m \u001b[39mas\u001b[39;00m \u001b[39mnp\u001b[39;00m\n\u001b[0;32m      <a href='vscode-notebook-cell:/c%3A/Users/harsk/Documents/Artificial%20Intelligence%20Analysis%2C%20Design%20and%20Implementation/Fall%202023/Capstone/Next-Word-Predictor/ML%20Engine%20Files/Model-2.0/model_train_2.0.ipynb#W0sZmlsZQ%3D%3D?line=1'>2</a>\u001b[0m \u001b[39mimport\u001b[39;00m \u001b[39mpandas\u001b[39;00m \u001b[39mas\u001b[39;00m \u001b[39mpd\u001b[39;00m\n\u001b[1;32m----> <a href='vscode-notebook-cell:/c%3A/Users/harsk/Documents/Artificial%20Intelligence%20Analysis%2C%20Design%20and%20Implementation/Fall%202023/Capstone/Next-Word-Predictor/ML%20Engine%20Files/Model-2.0/model_train_2.0.ipynb#W0sZmlsZQ%3D%3D?line=2'>3</a>\u001b[0m \u001b[39mimport\u001b[39;00m \u001b[39mspacy\u001b[39;00m\n\u001b[0;32m      <a href='vscode-notebook-cell:/c%3A/Users/harsk/Documents/Artificial%20Intelligence%20Analysis%2C%20Design%20and%20Implementation/Fall%202023/Capstone/Next-Word-Predictor/ML%20Engine%20Files/Model-2.0/model_train_2.0.ipynb#W0sZmlsZQ%3D%3D?line=3'>4</a>\u001b[0m \u001b[39mimport\u001b[39;00m \u001b[39minflect\u001b[39;00m\n\u001b[0;32m      <a href='vscode-notebook-cell:/c%3A/Users/harsk/Documents/Artificial%20Intelligence%20Analysis%2C%20Design%20and%20Implementation/Fall%202023/Capstone/Next-Word-Predictor/ML%20Engine%20Files/Model-2.0/model_train_2.0.ipynb#W0sZmlsZQ%3D%3D?line=4'>5</a>\u001b[0m \u001b[39mimport\u001b[39;00m \u001b[39mre\u001b[39;00m\n",
            "\u001b[1;31mModuleNotFoundError\u001b[0m: No module named 'spacy'"
          ]
        }
      ],
      "source": [
        "import numpy as np\n",
        "import pandas as pd\n",
        "import spacy\n",
        "import inflect\n",
        "import re"
      ]
    },
    {
      "cell_type": "code",
      "execution_count": null,
      "metadata": {
        "colab": {
          "base_uri": "https://localhost:8080/",
          "height": 192
        },
        "id": "seNSFJvfxHtR",
        "outputId": "2a26a41f-561a-459b-de3e-8ed026d136df"
      },
      "outputs": [
        {
          "ename": "KeyError",
          "evalue": "ignored",
          "output_type": "error",
          "traceback": [
            "\u001b[0;31m---------------------------------------------------------------------------\u001b[0m",
            "\u001b[0;31mKeyError\u001b[0m                                  Traceback (most recent call last)",
            "\u001b[0;32m<ipython-input-2-2ed8eab9251d>\u001b[0m in \u001b[0;36m<cell line: 2>\u001b[0;34m()\u001b[0m\n\u001b[1;32m      1\u001b[0m \u001b[0;32mimport\u001b[0m \u001b[0mio\u001b[0m\u001b[0;34m\u001b[0m\u001b[0;34m\u001b[0m\u001b[0m\n\u001b[0;32m----> 2\u001b[0;31m \u001b[0mdf2\u001b[0m \u001b[0;34m=\u001b[0m \u001b[0mpd\u001b[0m\u001b[0;34m.\u001b[0m\u001b[0mread_csv\u001b[0m\u001b[0;34m(\u001b[0m\u001b[0mio\u001b[0m\u001b[0;34m.\u001b[0m\u001b[0mBytesIO\u001b[0m\u001b[0;34m(\u001b[0m\u001b[0muploaded\u001b[0m\u001b[0;34m[\u001b[0m\u001b[0;34m'english sentences 1.csv'\u001b[0m\u001b[0;34m]\u001b[0m\u001b[0;34m)\u001b[0m\u001b[0;34m)\u001b[0m\u001b[0;34m\u001b[0m\u001b[0;34m\u001b[0m\u001b[0m\n\u001b[0m",
            "\u001b[0;31mKeyError\u001b[0m: 'english sentences 1.csv'"
          ]
        }
      ],
      "source": [
        "df2 = pd.read_csv('english sentences 1.csv')"
      ]
    },
    {
      "cell_type": "code",
      "execution_count": null,
      "metadata": {
        "id": "nnmX1dTaxqT0"
      },
      "outputs": [],
      "source": [
        "df2 = df2.drop_duplicates(subset='Sentence', keep='first')\n",
        "#df2['Words list'] = [x.split() for x in df2['Sentence']]"
      ]
    },
    {
      "cell_type": "code",
      "execution_count": null,
      "metadata": {
        "id": "EStli7p41mRf"
      },
      "outputs": [],
      "source": [
        "nlp = spacy.load('en_core_web_sm')"
      ]
    },
    {
      "cell_type": "code",
      "execution_count": null,
      "metadata": {
        "id": "wraG6VTrNeTC"
      },
      "outputs": [],
      "source": [
        "df4 = df2"
      ]
    },
    {
      "cell_type": "code",
      "execution_count": null,
      "metadata": {
        "id": "Q-xRTUHAQezu"
      },
      "outputs": [],
      "source": [
        "# Initialize inflect engine\n",
        "p = inflect.engine()\n",
        "\n",
        "# A helper function to convert ordinals to words\n",
        "def ordinal_to_words(match):\n",
        "    number = int(match.group(0)[:-2])  # Convert the ordinal number to an integer\n",
        "    return p.number_to_words(p.ordinal(number))  # Convert to ordinal word\n",
        "\n",
        "# A helper function to convert currency to words\n",
        "def currency_to_words(match):\n",
        "    amount = match.group(0)[1:]  # Extract the amount without the currency symbol\n",
        "    currency_word = 'dollars' if match.group(0).startswith('$') else 'euros'  # You can extend this logic to other currencies\n",
        "    return p.number_to_words(amount) + ' ' + currency_word\n",
        "\n",
        "# Define a function to preprocess the sentence\n",
        "def preprocess_sentence(sentence):\n",
        "    # Convert currency to words\n",
        "    sentence = re.sub(r'\\$\\d+', currency_to_words, sentence)\n",
        "\n",
        "    # Convert ordinal numbers to words\n",
        "    sentence = re.sub(r'\\b\\d+st\\b|\\b\\d+nd\\b|\\b\\d+rd\\b|\\b\\d+th\\b', ordinal_to_words, sentence)\n",
        "\n",
        "    # Convert cardinal numbers to words\n",
        "    sentence = ' '.join([p.number_to_words(token) if token.isdigit() else token for token in sentence.split()])\n",
        "\n",
        "    # Parse the sentence using the loaded model\n",
        "    doc = nlp(sentence)\n",
        "\n",
        "    # Initialize an empty list to store the tokens\n",
        "    tokens = []\n",
        "\n",
        "    # Iterate over each token\n",
        "    for token in doc:\n",
        "        # Keep tokens that are words (no punctuation, spaces, etc.)\n",
        "        if token.is_alpha:\n",
        "            tokens.append(token.text.lower())\n",
        "\n",
        "    # Return the cleaned sentence as a string\n",
        "    return ' '.join(tokens)\n",
        "\n",
        "# Apply the preprocessing function to the 'Sentence' column of the DataFrame\n",
        "df4['Cleaned_Sentence'] = df4['Sentence'][:5000].apply(preprocess_sentence)\n"
      ]
    }
  ],
  "metadata": {
    "colab": {
      "provenance": []
    },
    "kernelspec": {
      "display_name": "Python 3",
      "name": "python3"
    },
    "language_info": {
      "codemirror_mode": {
        "name": "ipython",
        "version": 3
      },
      "file_extension": ".py",
      "mimetype": "text/x-python",
      "name": "python",
      "nbconvert_exporter": "python",
      "pygments_lexer": "ipython3",
      "version": "3.12.0"
    }
  },
  "nbformat": 4,
  "nbformat_minor": 0
}
